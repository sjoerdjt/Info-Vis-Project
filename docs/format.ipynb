{
 "cells": [
  {
   "cell_type": "markdown",
   "id": "3b46ee32",
   "metadata": {},
   "source": [
    "# Tennistoppers (Nog aanpassen)\n",
    "\n",
    "Studenten: Robin Flier, Casper Smeets, Sjoerd Takken, Jip Voshol\n",
    "\n",
    "Team nummer: G3"
   ]
  },
  {
   "cell_type": "code",
   "execution_count": null,
   "id": "ca47204c",
   "metadata": {},
   "outputs": [],
   "source": [
    "from PIL import Image\n",
    "import matplotlib.pyplot as plt\n",
    "\n",
    "# Voer het pad naar je afbeelding in\n",
    "image_path = '../images/tennisveld.jpg'\n",
    "\n",
    "# Open de afbeelding met Pillow\n",
    "image = Image.open(image_path)\n",
    "\n",
    "# Gebruik matplotlib om de afbeelding te tonen\n",
    "plt.imshow(image)\n",
    "plt.axis('off')  # Verberg de assen\n",
    "plt.show()"
   ]
  },
  {
   "cell_type": "markdown",
   "id": "7d5fce97-8e22-41ee-a19c-6c0f0fb2f08f",
   "metadata": {},
   "source": [
    "## Introductie"
   ]
  },
  {
   "cell_type": "markdown",
   "id": "7cf81853-c237-4df2-8ed4-9deae8423fb0",
   "metadata": {},
   "source": [
    "In de wereld van tennis wordt succes vaak afgemeten aan overwinningen en prestaties op het veld. De weg naar een overwinning is echter een complexe mix van zowel aangeboren als aangeleerde eigenschappen. Tennis, een sport waarbij zowel fysieke bekwaamheid als mentale weerbaarheid centraal staan, biedt een rijke dataset om te onderzoeken welke factoren de uitkomsten van wedstrijden beïnvloeden. Dit project verdeelt deze factoren in twee categorieën: aangeboren eigenschappen en aangeleerde vaardigheden.\n",
    "\n",
    "Aangeboren eigenschappen omvatten kenmerken zoals afkomst, leeftijd, speelhand en lichaamslengte. Deze factoren zijn inherent aan de speler en niet beïnvloedbaar door training of ervaring. Hoewel deze eigenschappen op het eerste gezicht misschien een vaste rol spelen, zullen we onderzoeken in hoeverre ze de prestaties op het veld echt beïnvloeden.\n",
    "\n",
    "Aan de andere kant staan de aangeleerde eigenschappen: vaardigheden en tactieken die spelers kunnen ontwikkelen door training en wedstrijdervaring. Hier kijken we naar aspecten zoals het aantal aces, de tijdsduur van de wedstrijd en het aantal dubbele fouten. Deze elementen zijn cruciaal omdat ze directe indicatoren zijn van zowel technische bekwaamheid als mentale scherpte tijdens de wedstrijd.\n",
    "\n",
    "Onze analyse zal deze variabelen zowel afzonderlijk als in combinatie bestuderen om te bepalen welke het meest bepalend zijn voor succes in tenniswedstrijden. We zullen ook de verschillen tussen mannen en vrouwen in deze aspecten verkennen, om eventuele unieke strategieën of trends in speelstijlen te identificeren die kunnen verschillen per geslacht."
   ]
  },
  {
   "cell_type": "markdown",
   "id": "d9d4c934-c639-495f-a2bc-ed078e5659c3",
   "metadata": {},
   "source": [
    "## Dataset en Preprocessing"
   ]
  },
  {
   "cell_type": "markdown",
   "id": "850c1744-f4cc-4cc1-b0a7-9207c75837d8",
   "metadata": {},
   "source": [
    "Hier komt de tekst van Jip"
   ]
  },
  {
   "cell_type": "markdown",
   "id": "d5010a07-96a0-45a7-ba76-250a56053f62",
   "metadata": {},
   "source": [
    "## Eerste perspectief: lichamelijke kenmerken"
   ]
  },
  {
   "cell_type": "markdown",
   "id": "1f26b1fd",
   "metadata": {},
   "source": [
    "Introductie perspectief"
   ]
  },
  {
   "cell_type": "markdown",
   "id": "a43c3ae1-48d8-4663-8525-7d92fae83483",
   "metadata": {},
   "source": [
    "### Eerste argument eerste perspectief"
   ]
  },
  {
   "cell_type": "markdown",
   "id": "a44acbb2-6dbc-4cb9-ba26-7ba3fb19af5d",
   "metadata": {},
   "source": [
    "Hier komt argument 1"
   ]
  },
  {
   "cell_type": "code",
   "execution_count": 7,
   "id": "5a242e18",
   "metadata": {
    "tags": [
     "hide-input"
    ]
   },
   "outputs": [
    {
     "name": "stdout",
     "output_type": "stream",
     "text": [
      "figuur 1\n"
     ]
    }
   ],
   "source": [
    "# hier onze code\n",
    "print('figuur 1')"
   ]
  },
  {
   "cell_type": "markdown",
   "id": "f07d4a62-ad4f-4fd3-84ad-3540363a03fb",
   "metadata": {},
   "source": [
    "> *Figuur 1: Toelichting figuur*"
   ]
  },
  {
   "cell_type": "markdown",
   "id": "d42bd1f8",
   "metadata": {},
   "source": [
    "toelichting argument"
   ]
  },
  {
   "cell_type": "code",
   "execution_count": 8,
   "id": "62bfd307",
   "metadata": {
    "tags": [
     "hide-input"
    ]
   },
   "outputs": [
    {
     "name": "stdout",
     "output_type": "stream",
     "text": [
      "figuur 2\n"
     ]
    }
   ],
   "source": [
    "# code figuur 2\n",
    "print('figuur 2')"
   ]
  },
  {
   "cell_type": "markdown",
   "id": "62e26829-3d0d-4ee7-b88b-a7dc22849fd1",
   "metadata": {},
   "source": [
    "> *Figuur 2: Toelichting figuur*"
   ]
  },
  {
   "cell_type": "markdown",
   "id": "be2e96b5-34b9-4070-a924-b2e275d53293",
   "metadata": {},
   "source": [
    "Laatste stuk toelichting argument 1"
   ]
  },
  {
   "cell_type": "markdown",
   "id": "e0a5e8f3-eed9-4965-a85d-05a296514ca0",
   "metadata": {},
   "source": [
    "### Tweede argument eerste perspectief"
   ]
  },
  {
   "cell_type": "markdown",
   "id": "bb01e374",
   "metadata": {},
   "source": [
    "argument 2"
   ]
  },
  {
   "cell_type": "code",
   "execution_count": 9,
   "id": "7de76f3d",
   "metadata": {
    "tags": [
     "hide-input"
    ]
   },
   "outputs": [
    {
     "name": "stdout",
     "output_type": "stream",
     "text": [
      "figuur 3\n"
     ]
    }
   ],
   "source": [
    "# code voor figuur 3\n",
    "print('figuur 3')"
   ]
  },
  {
   "cell_type": "markdown",
   "id": "dbf82375-b2e8-4a22-b5a9-2c45b960d08a",
   "metadata": {},
   "source": [
    "> *Figuur 3: Toelichting figuur*"
   ]
  },
  {
   "cell_type": "markdown",
   "id": "c0bcecf9-e17c-477a-a229-55277d48fe64",
   "metadata": {},
   "source": [
    "laatste stuk arugment 2: hieruit blijkt dat"
   ]
  },
  {
   "cell_type": "markdown",
   "id": "e1ec4c90-ccd9-4940-9a0e-18799c438ef5",
   "metadata": {},
   "source": [
    "## Tweede perspectief"
   ]
  },
  {
   "cell_type": "markdown",
   "id": "005e94a9",
   "metadata": {},
   "source": [
    "Introductie perspectief 2"
   ]
  },
  {
   "cell_type": "markdown",
   "id": "4a3eacb4-4812-474a-9900-71e2ac33cb5f",
   "metadata": {},
   "source": [
    "### Eerste argument tweede perspectief"
   ]
  },
  {
   "cell_type": "markdown",
   "id": "62b3848e-5c37-482c-a584-c7c2a02a1e95",
   "metadata": {},
   "source": [
    "argument 1"
   ]
  },
  {
   "cell_type": "code",
   "execution_count": 10,
   "id": "982ff45f",
   "metadata": {
    "tags": [
     "hide-input"
    ]
   },
   "outputs": [
    {
     "name": "stdout",
     "output_type": "stream",
     "text": [
      "figuur 4\n"
     ]
    }
   ],
   "source": [
    "# code figuur 4\n",
    "print('figuur 4')"
   ]
  },
  {
   "cell_type": "markdown",
   "id": "c3857f81-dcad-489c-a608-3f7f86e6a58e",
   "metadata": {},
   "source": [
    "> *Figuur 4: Toelichting figuur*"
   ]
  },
  {
   "cell_type": "markdown",
   "id": "52d494f5",
   "metadata": {},
   "source": [
    "laatste stuk argument 1"
   ]
  },
  {
   "cell_type": "markdown",
   "id": "bf522e30-74ba-4774-a6a0-a94f3d827123",
   "metadata": {},
   "source": [
    "### Tweede argument tweede perspectief"
   ]
  },
  {
   "cell_type": "markdown",
   "id": "51f7128d-2dd5-42ff-a178-bd7d6457d749",
   "metadata": {},
   "source": [
    "argument 2"
   ]
  },
  {
   "cell_type": "code",
   "execution_count": 11,
   "id": "e6372635",
   "metadata": {
    "tags": [
     "hide-input"
    ]
   },
   "outputs": [
    {
     "name": "stdout",
     "output_type": "stream",
     "text": [
      "figuur 5\n"
     ]
    }
   ],
   "source": [
    "# code voor figuur 5\n",
    "print('figuur 5')"
   ]
  },
  {
   "cell_type": "markdown",
   "id": "84271e8b-3cdf-4cad-b78e-f536ff980cba",
   "metadata": {},
   "source": [
    "> *Figuur 5: Toelichting figuur*"
   ]
  },
  {
   "cell_type": "markdown",
   "id": "9bb2eaaf",
   "metadata": {},
   "source": [
    "meer argument of toelichting"
   ]
  },
  {
   "cell_type": "code",
   "execution_count": 12,
   "id": "3966ea55",
   "metadata": {
    "tags": [
     "hide-input"
    ]
   },
   "outputs": [
    {
     "name": "stdout",
     "output_type": "stream",
     "text": [
      "figuur 6\n"
     ]
    }
   ],
   "source": [
    "# code voor figuur 6\n",
    "print('figuur 6')"
   ]
  },
  {
   "cell_type": "markdown",
   "id": "80633dca-039a-4041-bd31-135ef7eef52c",
   "metadata": {},
   "source": [
    "> *Figuur 6: Toelichting figuur*"
   ]
  },
  {
   "cell_type": "markdown",
   "id": "921df77f",
   "metadata": {},
   "source": [
    "## Reflectie\n",
    "\n",
    "Zo vonden wij het project."
   ]
  },
  {
   "cell_type": "markdown",
   "id": "8799e8f6",
   "metadata": {},
   "source": [
    "## Werkverdeling\n",
    "\n",
    "### Samen\n",
    "Dit hebben wij samen gedaan\n",
    "### Sjoerd\n",
    "Sjoerd heeft \n",
    "### Casper\n",
    "Casper heeft\n",
    "### Jip\n",
    "Jip heeft zich bezig gehouden met het opschonen en samenvoegen van de datasets. Vanuit de dataset over de WTA heeft hij de bruikbare gegevens genomen van 2022 en deze samengevoegd met de dataset van de ATP. Hiermee is een grote dataset verkregen.\n",
    "### Robin\n",
    "Robin heeft\n"
   ]
  },
  {
   "cell_type": "markdown",
   "id": "8a61224c",
   "metadata": {},
   "source": [
    "## Referenties\n",
    "\n",
    "Deze bronnen hebben wij gebruikt"
   ]
  },
  {
   "cell_type": "markdown",
   "id": "f377761c-1ed5-440a-8c20-eaf6ab7c67bb",
   "metadata": {},
   "source": [
    "## Appendix???\n",
    "\n",
    "Generative AI (ChatGPT with GPT 3.5) is used to facilitate the creation of this document, as shown in the table below.\n",
    "\n",
    "| Reasons of Usage | In which parts? | Which prompts were used? |\n",
    "| ------------------------ | --------------------------------- | -------------------------------------------- |\n",
    "| Brainstorm research questions and identify keywords for further search | The entire project framing | \"Give keywords about the current debate in climate change with brief explanations\" |\n",
    "| Improve writing clarity and enhance readability | All sections | \"Edit the following text to make it more clear. Do not alter the meaning.\" |\n",
    "| Enhance readability | All sections | \"Revise the paragraph to improve readability.\" |\n",
    "| Ensure grammatical accuracy |  All sections | \"Correct any grammatical errors in the text.\" |\n",
    "| Provide alternative phrasing | Descriptions of the perspectives | \"Suggest alternative phrases for better clarity.\" |\n",
    "| Optimize sentence structure | All sections | \"Restructure the sentence for better flow.\" |\n",
    "| Condense lengthy sentences | All sections | \"Simplify the following sentences without losing important information.\"|\n",
    "\n",
    "> *Table 1: Usage of generative AI to facilitate the creation of this document.*"
   ]
  },
  {
   "cell_type": "markdown",
   "id": "fd11db3c",
   "metadata": {},
   "source": []
  }
 ],
 "metadata": {
  "celltoolbar": "Tags",
  "kernelspec": {
   "display_name": "Python 3 (ipykernel)",
   "language": "python",
   "name": "python3"
  },
  "language_info": {
   "codemirror_mode": {
    "name": "ipython",
    "version": 3
   },
   "file_extension": ".py",
   "mimetype": "text/x-python",
   "name": "python",
   "nbconvert_exporter": "python",
   "pygments_lexer": "ipython3",
   "version": "3.12.0"
  }
 },
 "nbformat": 4,
 "nbformat_minor": 5
}
