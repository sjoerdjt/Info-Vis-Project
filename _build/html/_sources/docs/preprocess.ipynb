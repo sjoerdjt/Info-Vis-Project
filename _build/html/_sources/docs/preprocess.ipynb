{
 "cells": [
  {
   "cell_type": "markdown",
   "id": "3b46ee32",
   "metadata": {},
   "source": [
    "# Data Preprocessing"
   ]
  },
  {
   "cell_type": "markdown",
   "id": "54582175-0319-458b-b3f9-b6c8ef415196",
   "metadata": {},
   "source": [
    "De volgende code is gebruikt om de datasets op te schonen, te filteren en samen te voegen."
   ]
  },
  {
   "cell_type": "code",
   "execution_count": 1,
   "id": "e180382e",
   "metadata": {},
   "outputs": [],
   "source": [
    "import pandas as pd\n",
    "\n",
    "# Laad de datasets\n",
    "atp_data = pd.read_csv('original_datasets/ATP_Men - Sheet1.csv')\n",
    "wta_data = pd.read_csv('original_datasets/wta_matches_2022.csv')\n",
    "\n",
    "# Functie om de nodige bewerkingen op elke dataset uit te voeren\n",
    "def preprocess_data(data, gender):\n",
    "    # Verwijderen van kolommen die van belang zijn (alleen wanneer ze data missen)\n",
    "    columns_to_drop = ['winner_entry', 'loser_entry', 'winner_seed', 'loser_seed']\n",
    "    data = data.drop(columns=columns_to_drop, errors='ignore')\n",
    "    \n",
    "    # Omzetten van tourney_date naar datetime\n",
    "    data['tourney_date'] = pd.to_datetime(data['tourney_date'], format='%Y%m%d')\n",
    "    \n",
    "    # Verwijderen van rijen met ontbrekende 'winner_age', 'loser_age', 'winner_ht' of 'loser_ht'\n",
    "    data = data.dropna(subset=['winner_age', 'loser_age', 'winner_ht', 'loser_ht'])\n",
    "    \n",
    "    # Controleren of de leeftijdskolommen van het type object zijn en vervangen van komma's door punten\n",
    "    if data['winner_age'].dtype == object:\n",
    "        data['winner_age'] = pd.to_numeric(data['winner_age'].str.replace(',', '.'))\n",
    "    if data['loser_age'].dtype == object:\n",
    "        data['loser_age'] = pd.to_numeric(data['loser_age'].str.replace(',', '.'))\n",
    "    \n",
    "    # Als de kolommen al numeriek zijn\n",
    "    if data['winner_age'].dtype != object:\n",
    "        data['winner_age'] = pd.to_numeric(data['winner_age'])\n",
    "    if data['loser_age'].dtype != object:\n",
    "        data['loser_age'] = pd.to_numeric(data['loser_age'])\n",
    "    \n",
    "    # Toevoegen van de 'gender' kolom zodat datasets gecombineerd kunnen worden\n",
    "    data['gender'] = gender\n",
    "    \n",
    "    return data\n",
    "\n",
    "# Toepassen van de functie op beide datasets\n",
    "atp_data_cleaned = preprocess_data(atp_data, 'Men')\n",
    "wta_data_cleaned = preprocess_data(wta_data, 'Women')\n",
    "\n",
    "# Combineren van de datasets\n",
    "combined_data = pd.concat([atp_data_cleaned, wta_data_cleaned], ignore_index=True)\n",
    "\n",
    "# Opslaan van de gecombineerde dataset\n",
    "combined_data.to_csv('cleaned_datasets/combined_cleaned_tennis_data.csv', index=False)"
   ]
  },
  {
   "cell_type": "code",
   "execution_count": null,
   "id": "5777878e-d240-4c5e-81f2-b0431f20fa22",
   "metadata": {},
   "outputs": [],
   "source": []
  }
 ],
 "metadata": {
  "celltoolbar": "Tags",
  "kernelspec": {
   "display_name": "Python 3 (ipykernel)",
   "language": "python",
   "name": "python3"
  },
  "language_info": {
   "codemirror_mode": {
    "name": "ipython",
    "version": 3
   },
   "file_extension": ".py",
   "mimetype": "text/x-python",
   "name": "python",
   "nbconvert_exporter": "python",
   "pygments_lexer": "ipython3",
   "version": "3.10.5"
  }
 },
 "nbformat": 4,
 "nbformat_minor": 5
}
